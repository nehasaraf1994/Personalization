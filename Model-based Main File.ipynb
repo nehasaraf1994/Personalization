{
 "cells": [
  {
   "cell_type": "markdown",
   "metadata": {},
   "source": [
    "## This file is to run the Matrix Factorization model for different train and test sample size"
   ]
  },
  {
   "cell_type": "code",
   "execution_count": 49,
   "metadata": {},
   "outputs": [],
   "source": [
    "import numpy as np\n",
    "rmse_test_10 = []\n",
    "mae_test_10 = []\n",
    "rmse_test_20 = []\n",
    "mae_test_20 = []\n",
    "catalog_convergence = []"
   ]
  },
  {
   "cell_type": "code",
   "execution_count": 60,
   "metadata": {},
   "outputs": [],
   "source": [
    "fit_time_test_10 = []\n",
    "fit_time_test_20 = []"
   ]
  },
  {
   "cell_type": "code",
   "execution_count": 26,
   "metadata": {},
   "outputs": [],
   "source": [
    "%matplotlib inline\n",
    "import matplotlib.pyplot as plt"
   ]
  },
  {
   "cell_type": "markdown",
   "metadata": {},
   "source": [
    "## Trainset : Case 1:"
   ]
  },
  {
   "cell_type": "code",
   "execution_count": 1,
   "metadata": {},
   "outputs": [
    {
     "name": "stdout",
     "output_type": "stream",
     "text": [
      "Stored 'item_count' (int)\n",
      "Stored 'user_count' (int)\n"
     ]
    }
   ],
   "source": [
    "item_count = 90\n",
    "user_count = 10000\n",
    "%store item_count\n",
    "%store user_count"
   ]
  },
  {
   "cell_type": "markdown",
   "metadata": {},
   "source": [
    "### Testset : Case 1:"
   ]
  },
  {
   "cell_type": "code",
   "execution_count": 2,
   "metadata": {},
   "outputs": [
    {
     "name": "stdout",
     "output_type": "stream",
     "text": [
      "Stored 'test_rows' (int)\n"
     ]
    }
   ],
   "source": [
    "test_rows = 10\n",
    "%store test_rows"
   ]
  },
  {
   "cell_type": "markdown",
   "metadata": {},
   "source": [
    "### Run the Model for these parameters:"
   ]
  },
  {
   "cell_type": "code",
   "execution_count": 3,
   "metadata": {},
   "outputs": [
    {
     "name": "stdout",
     "output_type": "stream",
     "text": [
      "Unique Items: 90\n",
      "Unique Users: 10000\n",
      "Sparsity Percentage: 98.67117831630317\n",
      "User ID: A2BL26W21LMGOV\n",
      "Predicted Ratings: 4.5085289778780995\n",
      "Original Ratings: 5.0\n",
      "\n",
      "\n",
      "User ID: A2D7QKTO56EW30\n",
      "Predicted Ratings: 4.75084357638902\n",
      "Original Ratings: 5.0\n",
      "\n",
      "\n",
      "User ID: A11TUHEHHENLBC\n",
      "Predicted Ratings: 2.7783354290621602\n",
      "Original Ratings: 4.0\n",
      "\n",
      "\n",
      "User ID: AXCG0TCSZ4N16\n",
      "Predicted Ratings: 3.281497303276263\n",
      "Original Ratings: 5.0\n",
      "\n",
      "\n",
      "User ID: A2BDJOIXPR2AYU\n",
      "Predicted Ratings: 3.8077886600270925\n",
      "Original Ratings: 4.0\n",
      "\n",
      "\n",
      "User ID: A1LR8B6GL7MDEV\n",
      "Predicted Ratings: 5.0\n",
      "Original Ratings: 5.0\n",
      "\n",
      "\n",
      "User ID: A27OQZFRHW1OOG\n",
      "Predicted Ratings: 3.9994529744295892\n",
      "Original Ratings: 4.0\n",
      "\n",
      "\n",
      "User ID: A1GHUN5HXMHZ89\n",
      "Predicted Ratings: 4.3660820594725696\n",
      "Original Ratings: 4.0\n",
      "\n",
      "\n",
      "User ID: A1S26JXPQKFVPI\n",
      "Predicted Ratings: 3.334204949559106\n",
      "Original Ratings: 5.0\n",
      "\n",
      "\n",
      "User ID: A3S5CDMM100MV7\n",
      "Predicted Ratings: 5.0\n",
      "Original Ratings: 4.0\n",
      "\n",
      "\n",
      "Root Mean Square Error for Test Data: 0.9324791286852412\n",
      "Mean Absolute Error for Test Data: 0.6905430188851239\n",
      "Item Coverage: 0.9\n",
      "Catalog Coverage: 0.05555555555555555\n",
      "The time taken to run with these parameters: 338.0911798477173\n"
     ]
    }
   ],
   "source": [
    "%run Model_based_recommendation.ipynb"
   ]
  },
  {
   "cell_type": "code",
   "execution_count": 50,
   "metadata": {},
   "outputs": [],
   "source": [
    "rmse_test_10 = rmse_test_10 + [0.93247]\n",
    "mae_test_10 = mae_test_10 + [0.69054]"
   ]
  },
  {
   "cell_type": "code",
   "execution_count": 61,
   "metadata": {},
   "outputs": [],
   "source": [
    "fit_time_test_10 = fit_time_test_10 + [338.0911]"
   ]
  },
  {
   "cell_type": "markdown",
   "metadata": {},
   "source": [
    "### Testset : Case 2:"
   ]
  },
  {
   "cell_type": "code",
   "execution_count": 4,
   "metadata": {},
   "outputs": [
    {
     "name": "stdout",
     "output_type": "stream",
     "text": [
      "Stored 'test_rows' (int)\n"
     ]
    }
   ],
   "source": [
    "test_rows = 20\n",
    "%store test_rows"
   ]
  },
  {
   "cell_type": "markdown",
   "metadata": {},
   "source": [
    "### Run the Model for these parameters:"
   ]
  },
  {
   "cell_type": "code",
   "execution_count": 5,
   "metadata": {},
   "outputs": [
    {
     "name": "stdout",
     "output_type": "stream",
     "text": [
      "Unique Items: 90\n",
      "Unique Users: 10000\n",
      "Sparsity Percentage: 98.67121777449486\n",
      "User ID: A32VUK5VY3V11D\n",
      "Predicted Ratings: 3.9939707291151185\n",
      "Original Ratings: 5.0\n",
      "\n",
      "\n",
      "User ID: AEMI9NYZOE3SP\n",
      "Predicted Ratings: 5.0\n",
      "Original Ratings: 5.0\n",
      "\n",
      "\n",
      "User ID: A14CTX7C5IRX6W\n",
      "Predicted Ratings: 3.7464258392878795\n",
      "Original Ratings: 3.0\n",
      "\n",
      "\n",
      "User ID: A3O32D6FN0RW02\n",
      "Predicted Ratings: 2.33639014764129\n",
      "Original Ratings: 1.0\n",
      "\n",
      "\n",
      "User ID: A28VY75YBEWT5F\n",
      "Predicted Ratings: 5.0\n",
      "Original Ratings: 5.0\n",
      "\n",
      "\n",
      "User ID: A19LWQH0L2NXC1\n",
      "Predicted Ratings: 4.0\n",
      "Original Ratings: 5.0\n",
      "\n",
      "\n",
      "User ID: A2GPRA9HHLOC4B\n",
      "Predicted Ratings: 3.027378342574612\n",
      "Original Ratings: 5.0\n",
      "\n",
      "\n",
      "User ID: AI2FO2TJXKPWW\n",
      "Predicted Ratings: 4.509085651216364\n",
      "Original Ratings: 5.0\n",
      "\n",
      "\n",
      "User ID: A94Z0RZNQHAWS\n",
      "Predicted Ratings: 4.354937366653977\n",
      "Original Ratings: 5.0\n",
      "\n",
      "\n",
      "User ID: A1TDPWNGX9OE6O\n",
      "Predicted Ratings: 3.551437601799786\n",
      "Original Ratings: 4.0\n",
      "\n",
      "\n",
      "User ID: A2B9RJS1I84ZN4\n",
      "Predicted Ratings: 5.0\n",
      "Original Ratings: 5.0\n",
      "\n",
      "\n",
      "User ID: A1T9QRSN6QOUPO\n",
      "Predicted Ratings: 3.4960154116838877\n",
      "Original Ratings: 5.0\n",
      "\n",
      "\n",
      "User ID: A1BL7D7OGIVB6B\n",
      "Predicted Ratings: 5.0\n",
      "Original Ratings: 5.0\n",
      "\n",
      "\n",
      "User ID: A4WEZJOIZIV4U\n",
      "Predicted Ratings: 4.672273830832951\n",
      "Original Ratings: 5.0\n",
      "\n",
      "\n",
      "User ID: A642EMSD5P7PA\n",
      "Predicted Ratings: 4.0\n",
      "Original Ratings: 4.0\n",
      "\n",
      "\n",
      "User ID: A19GKBU44GD3FK\n",
      "Predicted Ratings: 5.0\n",
      "Original Ratings: 5.0\n",
      "\n",
      "\n",
      "User ID: A281NPSIMI1C2R\n",
      "Predicted Ratings: 5.0\n",
      "Original Ratings: 5.0\n",
      "\n",
      "\n",
      "User ID: A3V6Z4RCDGRC44\n",
      "Predicted Ratings: 4.669888384934899\n",
      "Original Ratings: 5.0\n",
      "\n",
      "\n",
      "User ID: A27ZCU9LK0CMQ5\n",
      "Predicted Ratings: 5.0\n",
      "Original Ratings: 5.0\n",
      "\n",
      "\n",
      "User ID: ANCOMAI0I7LVG\n",
      "Predicted Ratings: 4.390681109021556\n",
      "Original Ratings: 5.0\n",
      "\n",
      "\n",
      "Root Mean Square Error for Test Data: 0.7731219003010993\n",
      "Mean Absolute Error for Test Data: 0.5208573779548008\n",
      "Item Coverage: 0.9\n",
      "Catalog Coverage: 0.05555555555555555\n",
      "The time taken to run with these parameters: 323.7847189903259\n"
     ]
    }
   ],
   "source": [
    "%run Model_based_recommendation.ipynb"
   ]
  },
  {
   "cell_type": "code",
   "execution_count": 52,
   "metadata": {},
   "outputs": [],
   "source": [
    "rmse_test_20 = rmse_test_20 + [0.77312]\n",
    "mae_test_20 = mae_test_20 + [0.52085]"
   ]
  },
  {
   "cell_type": "code",
   "execution_count": 51,
   "metadata": {},
   "outputs": [],
   "source": [
    "catalog_convergence = catalog_convergence + [0.0555]"
   ]
  },
  {
   "cell_type": "code",
   "execution_count": 62,
   "metadata": {},
   "outputs": [],
   "source": [
    "fit_time_test_20 = fit_time_test_20 + [323.7847]"
   ]
  },
  {
   "cell_type": "markdown",
   "metadata": {},
   "source": [
    "## Trainset : Case 2:"
   ]
  },
  {
   "cell_type": "code",
   "execution_count": 6,
   "metadata": {},
   "outputs": [
    {
     "name": "stdout",
     "output_type": "stream",
     "text": [
      "Stored 'item_count' (int)\n",
      "Stored 'user_count' (int)\n"
     ]
    }
   ],
   "source": [
    "item_count = 50\n",
    "user_count = 5000\n",
    "%store item_count\n",
    "%store user_count"
   ]
  },
  {
   "cell_type": "markdown",
   "metadata": {},
   "source": [
    "### Testset : Case 1:"
   ]
  },
  {
   "cell_type": "code",
   "execution_count": 7,
   "metadata": {},
   "outputs": [
    {
     "name": "stdout",
     "output_type": "stream",
     "text": [
      "Stored 'test_rows' (int)\n"
     ]
    }
   ],
   "source": [
    "test_rows = 10\n",
    "%store test_rows"
   ]
  },
  {
   "cell_type": "markdown",
   "metadata": {},
   "source": [
    "### Run the Model for these parameters:"
   ]
  },
  {
   "cell_type": "code",
   "execution_count": 8,
   "metadata": {},
   "outputs": [
    {
     "name": "stdout",
     "output_type": "stream",
     "text": [
      "Unique Items: 50\n",
      "Unique Users: 5000\n",
      "Sparsity Percentage: 97.71335959179159\n",
      "User ID: A7DX7BMWACQPS\n",
      "Predicted Ratings: 3.974603244373191\n",
      "Original Ratings: 5.0\n",
      "\n",
      "\n",
      "User ID: A1KM3IPZ9H0JKZ\n",
      "Predicted Ratings: 5.0\n",
      "Original Ratings: 4.0\n",
      "\n",
      "\n",
      "User ID: AJ3XLMT5DIS0J\n",
      "Predicted Ratings: 5.0\n",
      "Original Ratings: 4.0\n",
      "\n",
      "\n",
      "User ID: AMPGRXQMO89X9\n",
      "Predicted Ratings: 4.803839980276117\n",
      "Original Ratings: 4.0\n",
      "\n",
      "\n",
      "User ID: A2RHV42BTJSVON\n",
      "Predicted Ratings: 3.549970443962097\n",
      "Original Ratings: 5.0\n",
      "\n",
      "\n",
      "User ID: A366N4GNIG8HQP\n",
      "Predicted Ratings: 3.006579922377995\n",
      "Original Ratings: 5.0\n",
      "\n",
      "\n",
      "User ID: A3R84762WBCTP1\n",
      "Predicted Ratings: 5.0\n",
      "Original Ratings: 5.0\n",
      "\n",
      "\n",
      "User ID: ARXUTYSPF3GBW\n",
      "Predicted Ratings: 4.010607255846996\n",
      "Original Ratings: 5.0\n",
      "\n",
      "\n",
      "User ID: A1RSCKO1JUK0NV\n",
      "Predicted Ratings: 5.0\n",
      "Original Ratings: 3.0\n",
      "\n",
      "\n",
      "User ID: A193F9UQOUIXA2\n",
      "Predicted Ratings: 5.0\n",
      "Original Ratings: 5.0\n",
      "\n",
      "\n",
      "Root Mean Square Error for Test Data: 1.2146112358188073\n",
      "Mean Absolute Error for Test Data: 1.0262079113715838\n",
      "Item Coverage: 1.0\n",
      "Catalog Coverage: 0.1\n",
      "The time taken to run with these parameters: 228.29019212722778\n"
     ]
    }
   ],
   "source": [
    "%run Model_based_recommendation.ipynb"
   ]
  },
  {
   "cell_type": "code",
   "execution_count": 53,
   "metadata": {},
   "outputs": [],
   "source": [
    "rmse_test_10 = rmse_test_10 + [1.21461]\n",
    "mae_test_10 = mae_test_10 + [1.02620]"
   ]
  },
  {
   "cell_type": "code",
   "execution_count": 63,
   "metadata": {},
   "outputs": [],
   "source": [
    "fit_time_test_10 = fit_time_test_10 + [228.2901]"
   ]
  },
  {
   "cell_type": "markdown",
   "metadata": {},
   "source": [
    "### Testset : Case 2:"
   ]
  },
  {
   "cell_type": "code",
   "execution_count": 9,
   "metadata": {},
   "outputs": [
    {
     "name": "stdout",
     "output_type": "stream",
     "text": [
      "Stored 'test_rows' (int)\n"
     ]
    }
   ],
   "source": [
    "test_rows = 20\n",
    "%store test_rows"
   ]
  },
  {
   "cell_type": "markdown",
   "metadata": {},
   "source": [
    "### Run the Model for these parameters:"
   ]
  },
  {
   "cell_type": "code",
   "execution_count": 10,
   "metadata": {},
   "outputs": [
    {
     "name": "stdout",
     "output_type": "stream",
     "text": [
      "Unique Items: 50\n",
      "Unique Users: 5000\n",
      "Sparsity Percentage: 97.71345577662035\n",
      "User ID: A8M0UYU8ZFJ42\n",
      "Predicted Ratings: 5.0\n",
      "Original Ratings: 5.0\n",
      "\n",
      "\n",
      "User ID: A3QNDSQJFA360M\n",
      "Predicted Ratings: 4.800092546503467\n",
      "Original Ratings: 5.0\n",
      "\n",
      "\n",
      "User ID: A1S2PGB9GNS2OV\n",
      "Predicted Ratings: 5.0\n",
      "Original Ratings: 5.0\n",
      "\n",
      "\n",
      "User ID: A3MCIAFO37VH14\n",
      "Predicted Ratings: 3.8838861516645373\n",
      "Original Ratings: 5.0\n",
      "\n",
      "\n",
      "User ID: A19QX3N57VEU98\n",
      "Predicted Ratings: 4.012604224016275\n",
      "Original Ratings: 4.0\n",
      "\n",
      "\n",
      "User ID: A3C1Q9TRP83BYB\n",
      "Predicted Ratings: 4.340004933581313\n",
      "Original Ratings: 4.0\n",
      "\n",
      "\n",
      "User ID: A1GSDGR8CFZUGV\n",
      "Predicted Ratings: 5.0\n",
      "Original Ratings: 5.0\n",
      "\n",
      "\n",
      "User ID: A1IYF7X7ZGH4XM\n",
      "Predicted Ratings: 4.495524831414882\n",
      "Original Ratings: 5.0\n",
      "\n",
      "\n",
      "User ID: A365JD8TP0V7IK\n",
      "Predicted Ratings: 3.044444118507955\n",
      "Original Ratings: 3.0\n",
      "\n",
      "\n",
      "User ID: A3LFIA97BUU5IE\n",
      "Predicted Ratings: 4.626273558699914\n",
      "Original Ratings: 1.0\n",
      "\n",
      "\n",
      "User ID: A14F35UAKVUGLH\n",
      "Predicted Ratings: 5.0\n",
      "Original Ratings: 5.0\n",
      "\n",
      "\n",
      "User ID: A3RLLL86F9EBQH\n",
      "Predicted Ratings: 5.0\n",
      "Original Ratings: 5.0\n",
      "\n",
      "\n",
      "User ID: A1210QJT54O8T0\n",
      "Predicted Ratings: 3.9477379920651274\n",
      "Original Ratings: 4.0\n",
      "\n",
      "\n",
      "User ID: ANZ3FH95QE124\n",
      "Predicted Ratings: 5.0\n",
      "Original Ratings: 5.0\n",
      "\n",
      "\n",
      "User ID: AXOGY12OOA1PA\n",
      "Predicted Ratings: 5.0\n",
      "Original Ratings: 5.0\n",
      "\n",
      "\n",
      "User ID: A2V4S50RMRSJVV\n",
      "Predicted Ratings: 5.0\n",
      "Original Ratings: 5.0\n",
      "\n",
      "\n",
      "User ID: A3OXDAU8XTTQQL\n",
      "Predicted Ratings: 5.0\n",
      "Original Ratings: 5.0\n",
      "\n",
      "\n",
      "User ID: A2ALUVGJ3WMWW4\n",
      "Predicted Ratings: 4.243871009756477\n",
      "Original Ratings: 5.0\n",
      "\n",
      "\n",
      "User ID: A1E3JMTJWMLSYA\n",
      "Predicted Ratings: 3.9874340890617526\n",
      "Original Ratings: 5.0\n",
      "\n",
      "\n",
      "User ID: A1F1FOR46702YF\n",
      "Predicted Ratings: 5.0\n",
      "Original Ratings: 5.0\n",
      "\n",
      "\n",
      "Root Mean Square Error for Test Data: 0.9057460412003383\n",
      "Mean Absolute Error for Test Data: 0.38323901071696076\n",
      "Item Coverage: 1.0\n",
      "Catalog Coverage: 0.1\n",
      "The time taken to run with these parameters: 229.32155418395996\n"
     ]
    }
   ],
   "source": [
    "%run Model_based_recommendation.ipynb"
   ]
  },
  {
   "cell_type": "code",
   "execution_count": 54,
   "metadata": {},
   "outputs": [],
   "source": [
    "rmse_test_20 = rmse_test_20 + [0.90574]\n",
    "mae_test_20 = mae_test_20 + [0.38323]"
   ]
  },
  {
   "cell_type": "code",
   "execution_count": 55,
   "metadata": {},
   "outputs": [],
   "source": [
    "catalog_convergence = catalog_convergence + [0.1]"
   ]
  },
  {
   "cell_type": "code",
   "execution_count": 64,
   "metadata": {},
   "outputs": [],
   "source": [
    "fit_time_test_20 = fit_time_test_20 + [229.3215]"
   ]
  },
  {
   "cell_type": "markdown",
   "metadata": {},
   "source": [
    "## Trainset : Case 3:"
   ]
  },
  {
   "cell_type": "code",
   "execution_count": 11,
   "metadata": {},
   "outputs": [
    {
     "name": "stdout",
     "output_type": "stream",
     "text": [
      "Stored 'item_count' (int)\n",
      "Stored 'user_count' (int)\n"
     ]
    }
   ],
   "source": [
    "item_count = 150\n",
    "user_count = 15000\n",
    "%store item_count\n",
    "%store user_count"
   ]
  },
  {
   "cell_type": "markdown",
   "metadata": {},
   "source": [
    "### Testset: Case 1:"
   ]
  },
  {
   "cell_type": "code",
   "execution_count": 12,
   "metadata": {},
   "outputs": [
    {
     "name": "stdout",
     "output_type": "stream",
     "text": [
      "Stored 'test_rows' (int)\n"
     ]
    }
   ],
   "source": [
    "test_rows = 10\n",
    "%store test_rows"
   ]
  },
  {
   "cell_type": "markdown",
   "metadata": {},
   "source": [
    "### Run the Model for these parameters:"
   ]
  },
  {
   "cell_type": "code",
   "execution_count": 13,
   "metadata": {},
   "outputs": [
    {
     "name": "stdout",
     "output_type": "stream",
     "text": [
      "Unique Items: 150\n",
      "Unique Users: 15000\n",
      "Sparsity Percentage: 99.15554632096867\n",
      "User ID: A253JYRQ2Q79TP\n",
      "Predicted Ratings: 5.0\n",
      "Original Ratings: 5.0\n",
      "\n",
      "\n",
      "User ID: A2ULRHCKZEQRG6\n",
      "Predicted Ratings: 3.607412006302254\n",
      "Original Ratings: 5.0\n",
      "\n",
      "\n",
      "User ID: ADWSD45P3NZGU\n",
      "Predicted Ratings: 3.867966932002971\n",
      "Original Ratings: 3.0\n",
      "\n",
      "\n",
      "User ID: A3K6RXS3J3649H\n",
      "Predicted Ratings: 4.0\n",
      "Original Ratings: 3.0\n",
      "\n",
      "\n",
      "User ID: A38C12950IM24P\n",
      "Predicted Ratings: 4.744407373443356\n",
      "Original Ratings: 5.0\n",
      "\n",
      "\n",
      "User ID: A21M02M48DQ1G7\n",
      "Predicted Ratings: 5.0\n",
      "Original Ratings: 5.0\n",
      "\n",
      "\n",
      "User ID: A28ILQ1UPL7K5Z\n",
      "Predicted Ratings: 3.5968806429112727\n",
      "Original Ratings: 4.0\n",
      "\n",
      "\n",
      "User ID: AOZGOFPVAUMTB\n",
      "Predicted Ratings: 4.14631080471029\n",
      "Original Ratings: 4.0\n",
      "\n",
      "\n",
      "User ID: A3EX36SNRYD5VL\n",
      "Predicted Ratings: 4.043169716393367\n",
      "Original Ratings: 5.0\n",
      "\n",
      "\n",
      "User ID: AOL3GQV1OFP39\n",
      "Predicted Ratings: 1.9829087206424791\n",
      "Original Ratings: 3.0\n",
      "\n",
      "\n",
      "Root Mean Square Error for Test Data: 0.7675875478275007\n",
      "Mean Absolute Error for Test Data: 0.6039499277020532\n",
      "Item Coverage: 0.6866666666666666\n",
      "Catalog Coverage: 0.03333333333333333\n",
      "The time taken to run with these parameters: 410.3723759651184\n"
     ]
    }
   ],
   "source": [
    "%run Model_based_recommendation.ipynb"
   ]
  },
  {
   "cell_type": "code",
   "execution_count": 56,
   "metadata": {},
   "outputs": [],
   "source": [
    "rmse_test_10 = rmse_test_10 + [0.76758]\n",
    "mae_test_10 = mae_test_10 + [0.60394]"
   ]
  },
  {
   "cell_type": "code",
   "execution_count": 65,
   "metadata": {},
   "outputs": [],
   "source": [
    "fit_time_test_10 = fit_time_test_10 + [410.3723]"
   ]
  },
  {
   "cell_type": "markdown",
   "metadata": {},
   "source": [
    "### Testset: Case 2:"
   ]
  },
  {
   "cell_type": "code",
   "execution_count": 14,
   "metadata": {},
   "outputs": [
    {
     "name": "stdout",
     "output_type": "stream",
     "text": [
      "Stored 'test_rows' (int)\n"
     ]
    }
   ],
   "source": [
    "test_rows = 20\n",
    "%store test_rows"
   ]
  },
  {
   "cell_type": "markdown",
   "metadata": {},
   "source": [
    "### Run the Model for these parameters:"
   ]
  },
  {
   "cell_type": "code",
   "execution_count": 15,
   "metadata": {},
   "outputs": [
    {
     "name": "stdout",
     "output_type": "stream",
     "text": [
      "Unique Items: 150\n",
      "Unique Users: 15000\n",
      "Sparsity Percentage: 99.15556503972589\n",
      "User ID: A3IBB5K73FC262\n",
      "Predicted Ratings: 5.0\n",
      "Original Ratings: 5.0\n",
      "\n",
      "\n",
      "User ID: A39G9U8O6F5JQS\n",
      "Predicted Ratings: 3.9683741725048467\n",
      "Original Ratings: 5.0\n",
      "\n",
      "\n",
      "User ID: A2YM3KILJ1G0YJ\n",
      "Predicted Ratings: 4.395108367389985\n",
      "Original Ratings: 2.0\n",
      "\n",
      "\n",
      "User ID: A2PNTEDGMOLMOY\n",
      "Predicted Ratings: 4.768122942655395\n",
      "Original Ratings: 4.0\n",
      "\n",
      "\n",
      "User ID: A2W8GB1JNADR3V\n",
      "Predicted Ratings: 2.6630889789618757\n",
      "Original Ratings: 4.0\n",
      "\n",
      "\n",
      "User ID: A2FI3IJB2W4YJB\n",
      "Predicted Ratings: 4.796369479926368\n",
      "Original Ratings: 5.0\n",
      "\n",
      "\n",
      "User ID: AHGG2MYLOVPDC\n",
      "Predicted Ratings: 5.0\n",
      "Original Ratings: 3.0\n",
      "\n",
      "\n",
      "User ID: AEL6AD2AL2UX8\n",
      "Predicted Ratings: 4.547956520515311\n",
      "Original Ratings: 5.0\n",
      "\n",
      "\n",
      "User ID: A1UL334ETNAWLN\n",
      "Predicted Ratings: 4.000855846351265\n",
      "Original Ratings: 5.0\n",
      "\n",
      "\n",
      "User ID: A3GXKJGDMXUHUE\n",
      "Predicted Ratings: 4.48978365080428\n",
      "Original Ratings: 5.0\n",
      "\n",
      "\n",
      "User ID: AOM8KYW7X3WY0\n",
      "Predicted Ratings: 4.627852588134324\n",
      "Original Ratings: 5.0\n",
      "\n",
      "\n",
      "User ID: A15ATK01ADE4V0\n",
      "Predicted Ratings: 5.0\n",
      "Original Ratings: 5.0\n",
      "\n",
      "\n",
      "User ID: AQJUBIWM5GPEZ\n",
      "Predicted Ratings: 4.502745502561071\n",
      "Original Ratings: 4.0\n",
      "\n",
      "\n",
      "User ID: A3QVNG965KWNXJ\n",
      "Predicted Ratings: 5.0\n",
      "Original Ratings: 5.0\n",
      "\n",
      "\n",
      "User ID: A7TVQ2I8134ZB\n",
      "Predicted Ratings: 4.001617581107242\n",
      "Original Ratings: 3.0\n",
      "\n",
      "\n",
      "User ID: A2FRKEXDXDN1KI\n",
      "Predicted Ratings: 4.683553747841107\n",
      "Original Ratings: 5.0\n",
      "\n",
      "\n",
      "User ID: A2RXPUBPJSM57K\n",
      "Predicted Ratings: 3.0\n",
      "Original Ratings: 4.0\n",
      "\n",
      "\n",
      "User ID: A1PME65QLLQSLA\n",
      "Predicted Ratings: 4.807823565903636\n",
      "Original Ratings: 5.0\n",
      "\n",
      "\n",
      "User ID: A14OPIV7KYLPK6\n",
      "Predicted Ratings: 5.0\n",
      "Original Ratings: 5.0\n",
      "\n",
      "\n",
      "User ID: AS6SH2JM2YY3H\n",
      "Predicted Ratings: 3.926303020472362\n",
      "Original Ratings: 5.0\n",
      "\n",
      "\n",
      "Root Mean Square Error for Test Data: 0.9583041809094726\n",
      "Mean Absolute Error for Test Data: 0.7077816411149158\n",
      "Item Coverage: 0.6866666666666666\n",
      "Catalog Coverage: 0.03333333333333333\n",
      "The time taken to run with these parameters: 425.70281410217285\n"
     ]
    }
   ],
   "source": [
    "%run Model_based_recommendation.ipynb"
   ]
  },
  {
   "cell_type": "code",
   "execution_count": 57,
   "metadata": {},
   "outputs": [],
   "source": [
    "rmse_test_20 = rmse_test_20 + [0.95830]\n",
    "mae_test_20 = mae_test_20 + [0.70778]"
   ]
  },
  {
   "cell_type": "code",
   "execution_count": 58,
   "metadata": {},
   "outputs": [],
   "source": [
    "catalog_convergence = catalog_convergence + [0.0333]"
   ]
  },
  {
   "cell_type": "code",
   "execution_count": 66,
   "metadata": {},
   "outputs": [],
   "source": [
    "fit_time_test_20 = fit_time_test_20 + [425.7028]"
   ]
  },
  {
   "cell_type": "code",
   "execution_count": 31,
   "metadata": {},
   "outputs": [],
   "source": [
    "train_parameters = [250000,900000,2250000]"
   ]
  },
  {
   "cell_type": "code",
   "execution_count": 45,
   "metadata": {},
   "outputs": [
    {
     "data": {
      "text/plain": [
       "Text(0.5,1,'Effect of train size on Accuracy of the model when test size=10 user-item combination')"
      ]
     },
     "execution_count": 45,
     "metadata": {},
     "output_type": "execute_result"
    },
    {
     "data": {
      "image/png": "[encoded data removed]",
      "text/plain": [
       "<Figure size 720x432 with 1 Axes>"
      ]
     },
     "metadata": {},
     "output_type": "display_data"
    }
   ],
   "source": [
    "plt.figure(figsize=(10,6))\n",
    "plt.subplot(2,1,1)\n",
    "plt.plot(train_parameters,rmse_test_10,'r--')\n",
    "plt.xlabel('Different user-item combination in train dataset')\n",
    "plt.ylabel('RMSE')\n",
    "plt.title('Effect of train size on Accuracy of the model when test size=10 user-item combination')"
   ]
  },
  {
   "cell_type": "code",
   "execution_count": 46,
   "metadata": {},
   "outputs": [
    {
     "data": {
      "text/plain": [
       "Text(0.5,1,'Effect of train size on Accuracy of the model when test size=20 user-item combination')"
      ]
     },
     "execution_count": 46,
     "metadata": {},
     "output_type": "execute_result"
    },
    {
     "data": {
      "image/png": "[encoded data removed]",
      "text/plain": [
       "<Figure size 720x432 with 1 Axes>"
      ]
     },
     "metadata": {},
     "output_type": "display_data"
    }
   ],
   "source": [
    "plt.figure(figsize=(10,6))\n",
    "plt.subplot(2,1,1)\n",
    "plt.plot(train_parameters,rmse_test_20,'r--')\n",
    "plt.xlabel('Different user-item combination in train dataset')\n",
    "plt.ylabel('RMSE')\n",
    "plt.title('Effect of train size on Accuracy of the model when test size=20 user-item combination')"
   ]
  },
  {
   "cell_type": "code",
   "execution_count": 47,
   "metadata": {},
   "outputs": [
    {
     "data": {
      "text/plain": [
       "Text(0.5,1,'Effect of train size on Accuracy of the model when test size=10 user-item combination')"
      ]
     },
     "execution_count": 47,
     "metadata": {},
     "output_type": "execute_result"
    },
    {
     "data": {
      "image/png": "[encoded data removed]",
      "text/plain": [
       "<Figure size 720x432 with 1 Axes>"
      ]
     },
     "metadata": {},
     "output_type": "display_data"
    }
   ],
   "source": [
    "plt.figure(figsize=(10,6))\n",
    "plt.subplot(2,1,1)\n",
    "plt.plot(train_parameters,mae_test_10,'r--')\n",
    "plt.xlabel('Different user-item combination in train dataset')\n",
    "plt.ylabel('MAE')\n",
    "plt.title('Effect of train size on Accuracy of the model when test size=10 user-item combination')"
   ]
  },
  {
   "cell_type": "code",
   "execution_count": 69,
   "metadata": {},
   "outputs": [
    {
     "data": {
      "text/plain": [
       "Text(0.5,1,'Effect of train size on Accuracy of the model when test size=10 user-item combination')"
      ]
     },
     "execution_count": 69,
     "metadata": {},
     "output_type": "execute_result"
    },
    {
     "data": {
      "image/png": "[encoded data removed]",
      "text/plain": [
       "<Figure size 720x432 with 1 Axes>"
      ]
     },
     "metadata": {},
     "output_type": "display_data"
    }
   ],
   "source": [
    "plt.figure(figsize=(10,6))\n",
    "plt.subplot(2,1,1)\n",
    "plt.plot(train_parameters,rmse_test_20,'r--')\n",
    "plt.xlabel('Different user-item combination in train dataset')\n",
    "plt.ylabel('MAE')\n",
    "plt.title('Effect of train size on Accuracy of the model when test size=10 user-item combination')"
   ]
  },
  {
   "cell_type": "code",
   "execution_count": 59,
   "metadata": {},
   "outputs": [
    {
     "data": {
      "text/plain": [
       "Text(0.5,1,'Effect of train size on convergence ratio of the model')"
      ]
     },
     "execution_count": 59,
     "metadata": {},
     "output_type": "execute_result"
    },
    {
     "data": {
      "image/png": "[encoded data removed]",
      "text/plain": [
       "<Figure size 720x432 with 1 Axes>"
      ]
     },
     "metadata": {},
     "output_type": "display_data"
    }
   ],
   "source": [
    "plt.figure(figsize=(10,6))\n",
    "plt.subplot(2,1,1)\n",
    "plt.plot(train_parameters,catalog_convergence,'r--')\n",
    "plt.xlabel('Different user-item combination in train dataset')\n",
    "plt.ylabel('Convergence')\n",
    "plt.title('Effect of train size on convergence ratio of the model')"
   ]
  },
  {
   "cell_type": "code",
   "execution_count": 67,
   "metadata": {},
   "outputs": [
    {
     "data": {
      "text/plain": [
       "Text(0.5,1,'Effect of train size on fit time of the model when test size=10 user-item combination')"
      ]
     },
     "execution_count": 67,
     "metadata": {},
     "output_type": "execute_result"
    },
    {
     "data": {
      "image/png": "[encoded data removed]",
      "text/plain": [
       "<Figure size 720x432 with 1 Axes>"
      ]
     },
     "metadata": {},
     "output_type": "display_data"
    }
   ],
   "source": [
    "plt.figure(figsize=(10,6))\n",
    "plt.subplot(2,1,1)\n",
    "plt.plot(train_parameters,fit_time_test_10,'r--')\n",
    "plt.xlabel('Different user-item combination in train dataset')\n",
    "plt.ylabel('Fit time')\n",
    "plt.title('Effect of train size on fit time of the model when test size=10 user-item combination')"
   ]
  },
  {
   "cell_type": "code",
   "execution_count": 68,
   "metadata": {},
   "outputs": [
    {
     "data": {
      "text/plain": [
       "Text(0.5,1,'Effect of train size on fit time of the model when test size=20 user-item combination')"
      ]
     },
     "execution_count": 68,
     "metadata": {},
     "output_type": "execute_result"
    },
    {
     "data": {
      "image/png": "[encoded data removed]",
      "text/plain": [
       "<Figure size 720x432 with 1 Axes>"
      ]
     },
     "metadata": {},
     "output_type": "display_data"
    }
   ],
   "source": [
    "plt.figure(figsize=(10,6))\n",
    "plt.subplot(2,1,1)\n",
    "plt.plot(train_parameters,fit_time_test_20,'r--')\n",
    "plt.xlabel('Different user-item combination in train dataset')\n",
    "plt.ylabel('Fit time')\n",
    "plt.title('Effect of train size on fit time of the model when test size=20 user-item combination')"
   ]
  },
  {
   "cell_type": "code",
   "execution_count": null,
   "metadata": {},
   "outputs": [],
   "source": []
  }
 ],
 "metadata": {
  "kernelspec": {
   "display_name": "Python [conda env:anaconda3]",
   "language": "python",
   "name": "conda-env-anaconda3-py"
  },
  "language_info": {
   "codemirror_mode": {
    "name": "ipython",
    "version": 3
   },
   "file_extension": ".py",
   "mimetype": "text/x-python",
   "name": "python",
   "nbconvert_exporter": "python",
   "pygments_lexer": "ipython3",
   "version": "3.6.5"
  }
 },
 "nbformat": 4,
 "nbformat_minor": 2
}
